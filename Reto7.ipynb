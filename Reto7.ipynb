{
 "cells": [
  {
   "cell_type": "code",
   "execution_count": null,
   "metadata": {},
   "outputs": [],
   "source": [
    "#Imprimir un listado con los números del 1 al 100 cada uno con su respectivo cuadrado.\n",
    "numero: int \n",
    "numero = 1\n",
    "while (numero <= 100):\n",
    "    print(str(numero) + \"y\" + str(numero**2)) \n",
    "    numero = numero +1\n",
    "print(\"Fin\")"
   ]
  },
  {
   "cell_type": "code",
   "execution_count": null,
   "metadata": {},
   "outputs": [],
   "source": [
    "#Imprimir un listado con los números impares desde 1 hasta 999 y seguidamente otro listado con los números pares desde 2 hasta 1000.\n",
    "i: int\n",
    "for i in range (1,1000):\n",
    "    if i%2 != 0:\n",
    "        print(i)\n",
    "for i in range (2,1001):\n",
    "    if i%2 == 0:\n",
    "        print(i)\n",
    "print(\"Fin\")"
   ]
  },
  {
   "cell_type": "code",
   "execution_count": null,
   "metadata": {},
   "outputs": [],
   "source": [
    "#Imprimir los números pares en forma descendente hasta 2 que son menores o iguales a un número natural n ≥ 2 dado\n",
    "n: int\n",
    "n = int(input(\"Introducir valor de n>=2\"))\n",
    "for n in range (n,1, -1):\n",
    "    if n%2 == 0: #comprobar si n es par\n",
    "        print(str(n))\n",
    "print(\"Fin\")"
   ]
  },
  {
   "cell_type": "code",
   "execution_count": null,
   "metadata": {},
   "outputs": [],
   "source": [
    "#En 2022 el país A tendrá una población de 25 millones de habitantes y el país B de 18:9 millones. Las tasas de crecimiento anual de la población serán de 2% y 3% respectivamente. Desarrollar un algoritmo para informar en que año la población del país B superará a la de A.\n",
    "añoA: float = 25e6\n",
    "añoB: float = 18.9e6\n",
    "año: int\n",
    "año = 2022\n",
    "\n",
    "while añoA >= añoB:\n",
    "    añoA = añoA*(1 + 0.02)\n",
    "    añoB = añoB*(1 + 0.03)\n",
    "    año = año + 1\n",
    "print(\"En el año \" + str(año) + \" la población del país B superará a la de A\")\n",
    "print(\"Fin\")"
   ]
  },
  {
   "cell_type": "code",
   "execution_count": null,
   "metadata": {},
   "outputs": [],
   "source": [
    "#Imprimir el factorial de un número natural n dado.\n",
    "n: int\n",
    "m: int\n",
    "fact: int\n",
    "n = int(input(\"Insertar valor de n\"))\n",
    "m = 1\n",
    "fact = 1\n",
    "if n<0:\n",
    "    print(\"No es posible calcular el factorial de \" + str(n))\n",
    "else:\n",
    "    while m <= n:\n",
    "        fact = fact*m\n",
    "        m = m+1\n",
    "    print(\"El factorial de \" + str(n) + \" es \" + str(fact))"
   ]
  },
  {
   "cell_type": "code",
   "execution_count": null,
   "metadata": {},
   "outputs": [],
   "source": [
    "#Implementar un algoritmo que permita adivinar un número dado de 1 a 100, preguntando en cada caso si el número es mayor, menor o igual.\n",
    "adivinar_numero : int\n",
    "import random\n",
    "numero_desconocido = random.randint(1,100)\n",
    "bandera : bool = True\n",
    "\n",
    "while bandera:\n",
    "    adivinar_numero = int(input(\"Insertar un número entre 1 y 100\"))\n",
    "    if numero_desconocido > adivinar_numero:\n",
    "        print(\"Has introducido un número muy pequeño\")\n",
    "    elif numero_desconocido < adivinar_numero:\n",
    "        print(\"Has introducido un número muy grande\")\n",
    "    else: \n",
    "        print(\"¡¡Has adivinado el número!!\")\n",
    "bandera = False "
   ]
  },
  {
   "cell_type": "code",
   "execution_count": null,
   "metadata": {},
   "outputs": [],
   "source": [
    "#Implementar un programa que ingrese un número de 2 a 50 y muestre sus divisores.\n",
    "def divisores_numero(numero):\n",
    "    divisores = []\n",
    "    for n in range(2,51):\n",
    "        if numero % n == 0:\n",
    "            divisores.append(n)\n",
    "    return divisores\n",
    "\n",
    "numero = int(input(\"Ingrese un número entre 2 y 50: \"))\n",
    "if 2 <= numero <= 50:\n",
    "    divisores =  divisores_numero(numero)\n",
    "    print(\"Los divisores de\" + str(numero) + \" son:\" + str(divisores))\n",
    "else:\n",
    "    print(\"El número ingresado no se encuentra dentro del rango de 2 a 50.\")"
   ]
  },
  {
   "cell_type": "code",
   "execution_count": null,
   "metadata": {},
   "outputs": [],
   "source": [
    "#Implementar el algoritmo que muestre los números primos del 1 al 100. nota: use funciones\n",
    "\n",
    "def mostrar_primos(numero):\n",
    "    list_of_primos = []\n",
    "    for i in range (1,101):\n",
    "        if numero % i != 0:\n",
    "            list_of_primos.append(i)        \n",
    "    return list_of_primos\n",
    "\n",
    "numero = int(input(\"Ingrese un número entre 1 y 100: \"))\n",
    "if 1 <= numero <= 100:\n",
    "    list_of_primos = mostrar_primos(numero)\n",
    "    print(\"Los números primos del 1 al \" + str(numero) + \" son \" + str(list_of_primos))\n",
    "else:\n",
    "    print(\"El número ingtresado no se encuentra dentro del rango del 1 al 100\")"
   ]
  }
 ],
 "metadata": {
  "language_info": {
   "name": "python"
  },
  "orig_nbformat": 4
 },
 "nbformat": 4,
 "nbformat_minor": 2
}
